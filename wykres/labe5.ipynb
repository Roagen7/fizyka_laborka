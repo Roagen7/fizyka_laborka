{
 "cells": [
  {
   "cell_type": "markdown",
   "id": "historical-conservative",
   "metadata": {},
   "source": [
    "# Imports"
   ]
  },
  {
   "cell_type": "code",
   "execution_count": 1,
   "id": "integrated-thompson",
   "metadata": {},
   "outputs": [],
   "source": [
    "import numpy as np\n",
    "import matplotlib.pyplot as plt"
   ]
  },
  {
   "cell_type": "markdown",
   "id": "protected-exhaust",
   "metadata": {},
   "source": [
    "# Dane"
   ]
  },
  {
   "cell_type": "code",
   "execution_count": 2,
   "id": "comprehensive-snapshot",
   "metadata": {},
   "outputs": [],
   "source": [
    "I12V_51 = np.array([i*0.5 for i in range(1, 11)])\n",
    "m12V_51 = np.array([38.19, 39.08, 39.96, 40.85, 41.60, 42.74, 43.67, 44.62, 45.44, 46.39])\n",
    "\n",
    "I6V_51 = np.array([i*0.5 for i in range(1, 11)])\n",
    "m6V_51 = np.array([37.61, 38.01, 38.38, 38.77, 39.14, 39.52, 39.98, 40.31, 40.74, 41.11])\n",
    "\n",
    "U_53 = np.array([2,4,6,8,10,12])\n",
    "I_53 = np.array([0.04, 0.20,  0.36, 0.53, 0.70, 0.86])\n",
    "m_53 = np.array([37.67, 38.96, 40.27, 41.68, 43.11, 44.52])"
   ]
  },
  {
   "cell_type": "markdown",
   "id": "scientific-providence",
   "metadata": {},
   "source": [
    "# Stałe"
   ]
  },
  {
   "cell_type": "code",
   "execution_count": 3,
   "id": "greenhouse-cookie",
   "metadata": {},
   "outputs": [],
   "source": [
    "m0 = 37.28\n",
    "g = 9.80\n",
    "L = 0.1"
   ]
  },
  {
   "cell_type": "markdown",
   "id": "minimal-netherlands",
   "metadata": {},
   "source": [
    "# Utilities"
   ]
  },
  {
   "cell_type": "code",
   "execution_count": 4,
   "id": "rubber-bradley",
   "metadata": {},
   "outputs": [],
   "source": [
    "def wyplujTabeleLatex(*args):\n",
    "    finalstr = \"\"\n",
    "    n = len(args[0])\n",
    "    for i in range(n):\n",
    "        for arg in args[:-1]:\n",
    "            finalstr += str(arg[i])\n",
    "            finalstr += \" & \"\n",
    "        finalstr += str(args[-1][i])\n",
    "        \n",
    "        finalstr += \"\\\\\\\\\\n\"\n",
    "    return finalstr"
   ]
  },
  {
   "cell_type": "markdown",
   "id": "durable-witness",
   "metadata": {},
   "source": [
    "# E5.1"
   ]
  },
  {
   "cell_type": "markdown",
   "id": "foster-florist",
   "metadata": {},
   "source": [
    "## 12 V"
   ]
  },
  {
   "cell_type": "code",
   "execution_count": 5,
   "id": "legal-identifier",
   "metadata": {},
   "outputs": [
    {
     "name": "stdout",
     "output_type": "stream",
     "text": [
      "0.5 & 38.19 & 8.92\\\\\n",
      "1.0 & 39.08 & 17.64\\\\\n",
      "1.5 & 39.96 & 26.26\\\\\n",
      "2.0 & 40.85 & 34.99\\\\\n",
      "2.5 & 41.6 & 42.34\\\\\n",
      "3.0 & 42.74 & 53.51\\\\\n",
      "3.5 & 43.67 & 62.62\\\\\n",
      "4.0 & 44.62 & 71.93\\\\\n",
      "4.5 & 45.44 & 79.97\\\\\n",
      "5.0 & 46.39 & 89.28\\\\\n",
      "\n"
     ]
    },
    {
     "data": {
      "image/png": "[encoded data removed]",
      "text/plain": [
       "<Figure size 432x288 with 1 Axes>"
      ]
     },
     "metadata": {
      "needs_background": "light"
     },
     "output_type": "display_data"
    }
   ],
   "source": [
    "F12V_51 = np.round((m12V_51 - m0) * g, 2)\n",
    "print(wyplujTabeleLatex(I12V_51, m12V_51, F12V_51))\n",
    "\n",
    "plt.scatter(I12V_51, F12V_51)\n",
    "plt.show()"
   ]
  },
  {
   "cell_type": "markdown",
   "id": "brown-continent",
   "metadata": {},
   "source": [
    "## 6V"
   ]
  },
  {
   "cell_type": "code",
   "execution_count": 6,
   "id": "linear-audio",
   "metadata": {},
   "outputs": [
    {
     "name": "stdout",
     "output_type": "stream",
     "text": [
      "0.5 & 37.61 & 3.23\\\\\n",
      "1.0 & 38.01 & 7.15\\\\\n",
      "1.5 & 38.38 & 10.78\\\\\n",
      "2.0 & 38.77 & 14.6\\\\\n",
      "2.5 & 39.14 & 18.23\\\\\n",
      "3.0 & 39.52 & 21.95\\\\\n",
      "3.5 & 39.98 & 26.46\\\\\n",
      "4.0 & 40.31 & 29.69\\\\\n",
      "4.5 & 40.74 & 33.91\\\\\n",
      "5.0 & 41.11 & 37.53\\\\\n",
      "\n"
     ]
    },
    {
     "data": {
      "image/png": "[encoded data removed]",
      "text/plain": [
       "<Figure size 432x288 with 1 Axes>"
      ]
     },
     "metadata": {
      "needs_background": "light"
     },
     "output_type": "display_data"
    }
   ],
   "source": [
    "F6V_51 = np.round((m6V_51 - m0) * g, 2)\n",
    "print(wyplujTabeleLatex(I6V_51, m6V_51, F6V_51))\n",
    "\n",
    "plt.scatter(I6V_51, F6V_51)\n",
    "plt.show()"
   ]
  },
  {
   "cell_type": "markdown",
   "id": "sealed-sigma",
   "metadata": {},
   "source": [
    "# E5.2"
   ]
  },
  {
   "cell_type": "code",
   "execution_count": 7,
   "id": "atlantic-benjamin",
   "metadata": {},
   "outputs": [
    {
     "data": {
      "image/png": "[encoded data removed]",
      "text/plain": [
       "<Figure size 432x288 with 1 Axes>"
      ]
     },
     "metadata": {
      "needs_background": "light"
     },
     "output_type": "display_data"
    }
   ],
   "source": [
    "a, b = np.polyfit(I12V_51, m12V_51, deg=1)\n",
    "plt.scatter(I12V_51, m12V_51)\n",
    "xp = np.linspace(I12V_51[0], I12V_51[-1])\n",
    "yp = a*xp + b\n",
    "plt.plot(xp, yp)\n",
    "plt.show()"
   ]
  },
  {
   "cell_type": "markdown",
   "id": "incomplete-vitamin",
   "metadata": {},
   "source": [
    "## Sprawdzanie zgodności współczynnika"
   ]
  },
  {
   "cell_type": "code",
   "execution_count": 8,
   "id": "competent-appreciation",
   "metadata": {},
   "outputs": [
    {
     "name": "stdout",
     "output_type": "stream",
     "text": [
      "1.8036262552640103\n"
     ]
    }
   ],
   "source": [
    "B12V_52 = F12V_51/(I12V_51*L)\n",
    "A12V_52 = B12V_52 * L / g\n",
    "print(np.mean(A12V_52))"
   ]
  },
  {
   "cell_type": "markdown",
   "id": "deluxe-moral",
   "metadata": {},
   "source": [
    "# E5.3"
   ]
  },
  {
   "cell_type": "code",
   "execution_count": 9,
   "id": "complicated-blackjack",
   "metadata": {},
   "outputs": [
    {
     "name": "stdout",
     "output_type": "stream",
     "text": [
      "2 & 0.04 & 37.67 & 955.5\\\\\n",
      "4 & 0.2 & 38.96 & 823.2\\\\\n",
      "6 & 0.36 & 40.27 & 813.94\\\\\n",
      "8 & 0.53 & 41.68 & 813.58\\\\\n",
      "10 & 0.7 & 43.11 & 816.2\\\\\n",
      "12 & 0.86 & 44.52 & 825.02\\\\\n",
      "\n"
     ]
    },
    {
     "data": {
      "image/png": "[encoded data removed]",
      "text/plain": [
       "<Figure size 432x288 with 1 Axes>"
      ]
     },
     "metadata": {
      "needs_background": "light"
     },
     "output_type": "display_data"
    }
   ],
   "source": [
    "B_53 = np.round(((m_53 - m0) * g) / (I_53 * L), 2)\n",
    "print(wyplujTabeleLatex(U_53, I_53, m_53, B_53))\n",
    "\n",
    "plt.ylim(np.min(B_53) - 100, np.max(B_53) + 100)\n",
    "plt.scatter(I_53, B_53)\n",
    "plt.show()"
   ]
  }
 ],
 "metadata": {
  "kernelspec": {
   "display_name": "Python 3",
   "language": "python",
   "name": "python3"
  },
  "language_info": {
   "codemirror_mode": {
    "name": "ipython",
    "version": 3
   },
   "file_extension": ".py",
   "mimetype": "text/x-python",
   "name": "python",
   "nbconvert_exporter": "python",
   "pygments_lexer": "ipython3",
   "version": "3.9.15"
  }
 },
 "nbformat": 4,
 "nbformat_minor": 5
}
